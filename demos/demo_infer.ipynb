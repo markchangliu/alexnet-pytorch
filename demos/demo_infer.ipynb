{
 "cells": [
  {
   "cell_type": "markdown",
   "id": "e8d3db8f",
   "metadata": {},
   "source": [
    "# 导入依赖"
   ]
  },
  {
   "cell_type": "code",
   "execution_count": null,
   "id": "dd49c2ff",
   "metadata": {},
   "outputs": [],
   "source": [
    "import os\n",
    "import os\n",
    "import sys\n",
    "from pathlib import Path\n",
    "sys.path.insert(0, str(Path(os.getcwd()).parent))\n",
    "\n",
    "import torch\n",
    "\n",
    "from src.infer import infer_img\n",
    "from src.models import AlexNet\n",
    "from src.transforms import build_test_transfrom\n",
    "from src.utils import get_cat_name_id_dict"
   ]
  },
  {
   "cell_type": "markdown",
   "id": "49cfd2a5",
   "metadata": {},
   "source": [
    "# 加载模型、transforms、类别字典"
   ]
  },
  {
   "cell_type": "code",
   "execution_count": null,
   "id": "5694b13e",
   "metadata": {},
   "outputs": [],
   "source": [
    "model = AlexNet(200)\n",
    "ckpt_p = \"ckpts/epoch39.pth\"\n",
    "state_dict = torch.load(ckpt_p)\n",
    "model.load_state_dict(state_dict[\"model\"])\n",
    "\n",
    "channel_mean = torch.as_tensor([0.48023694, 0.44806704, 0.39750364])\n",
    "channel_std = torch.as_tensor([0.22953526, 0.22623344, 0.22549918])\n",
    "transforms = build_test_transfrom(channel_mean, channel_std)\n",
    "\n",
    "class_list_p = \"data/wnids.txt\"\n",
    "cat_name_id_dict = get_cat_name_id_dict(class_list_p)\n",
    "cat_id_name_dict = {v:k for k, v in cat_name_id_dict.items()}"
   ]
  },
  {
   "cell_type": "markdown",
   "id": "f14e5a03",
   "metadata": {},
   "source": [
    "# 运行推理"
   ]
  },
  {
   "cell_type": "code",
   "execution_count": null,
   "id": "e9c54c51",
   "metadata": {},
   "outputs": [
    {
     "name": "stdout",
     "output_type": "stream",
     "text": [
      "gt_cat_name: n01443537\n",
      "pred_cat_name: n01443537\n",
      "pred_prob: 0.6621066331863403\n"
     ]
    }
   ],
   "source": [
    "device = \"cuda:0\"\n",
    "img_p = \"demos/demo_image2.JPEG\"\n",
    "pred_prob, pred_cat_id = infer_img(img_p, model, transforms, device)\n",
    "pred_cat_name = cat_id_name_dict[int(pred_cat_id)]\n",
    "\n",
    "print(f\"gt_cat_name: n01443537\")\n",
    "print(f\"pred_cat_name: {pred_cat_name}\")\n",
    "print(f\"pred_prob: {pred_prob}\")"
   ]
  }
 ],
 "metadata": {
  "kernelspec": {
   "display_name": "Python 3",
   "language": "python",
   "name": "python3"
  },
  "language_info": {
   "codemirror_mode": {
    "name": "ipython",
    "version": 3
   },
   "file_extension": ".py",
   "mimetype": "text/x-python",
   "name": "python",
   "nbconvert_exporter": "python",
   "pygments_lexer": "ipython3",
   "version": "3.11.9"
  }
 },
 "nbformat": 4,
 "nbformat_minor": 5
}
